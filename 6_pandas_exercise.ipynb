{
 "cells": [
  {
   "cell_type": "code",
   "execution_count": 1,
   "metadata": {
    "colab": {
     "base_uri": "https://localhost:8080/",
     "height": 58
    },
    "colab_type": "code",
    "executionInfo": {
     "elapsed": 1849,
     "status": "ok",
     "timestamp": 1589851415062,
     "user": {
      "displayName": "lingfung liu",
      "photoUrl": "",
      "userId": "15614447323883241219"
     },
     "user_tz": -480
    },
    "id": "8CO1iWtnG3k9",
    "outputId": "130aa29c-129c-494a-c44c-3a20ee85f5dd"
   },
   "outputs": [],
   "source": [
    "import seaborn as sns\n",
    "import matplotlib.pyplot as plt\n",
    "import numpy as np\n",
    "\n",
    "import pandas as pd\n",
    "pd.options.display.min_rows = 11\n",
    "\n",
    "%config InlineBackend.figure_format=\"retina\"  # enable retina display "
   ]
  },
  {
   "cell_type": "markdown",
   "metadata": {
    "colab_type": "text",
    "id": "MPOJcA_3Ne2R"
   },
   "source": [
    "### 1. Stock Data Analysis\n",
    "\n",
    "This exercise demonstrates tools for handling and analyzing stock market data with Python. \n",
    "\n",
    "Before we analyze stock data, we need to get it into some workable format. Stock data can be obtained from Yahoo! Finance, Google Finance, or a number of other sources. We can use data acess interfaces provided by pandas' [datareader sub package](https://pandas-datareader.readthedocs.io/) to create a `DataFrame` from various Internet data sources easily."
   ]
  },
  {
   "cell_type": "code",
   "execution_count": 2,
   "metadata": {
    "colab": {},
    "colab_type": "code",
    "id": "dsPW7gLaNfkr"
   },
   "outputs": [
    {
     "ename": "ModuleNotFoundError",
     "evalue": "No module named 'pandas_datareader'",
     "output_type": "error",
     "traceback": [
      "\u001b[1;31m---------------------------------------------------------------------------\u001b[0m",
      "\u001b[1;31mModuleNotFoundError\u001b[0m                       Traceback (most recent call last)",
      "\u001b[1;32m<ipython-input-2-178f5667e592>\u001b[0m in \u001b[0;36m<module>\u001b[1;34m\u001b[0m\n\u001b[0;32m      1\u001b[0m \u001b[1;32mfrom\u001b[0m \u001b[0mpandas\u001b[0m\u001b[1;33m.\u001b[0m\u001b[0mtesting\u001b[0m \u001b[1;32mimport\u001b[0m \u001b[0massert_frame_equal\u001b[0m\u001b[1;33m\u001b[0m\u001b[1;33m\u001b[0m\u001b[0m\n\u001b[1;32m----> 2\u001b[1;33m \u001b[1;32mfrom\u001b[0m \u001b[0mpandas_datareader\u001b[0m \u001b[1;32mimport\u001b[0m \u001b[0mdata\u001b[0m \u001b[1;32mas\u001b[0m \u001b[0mdr\u001b[0m\u001b[1;33m\u001b[0m\u001b[1;33m\u001b[0m\u001b[0m\n\u001b[0m\u001b[0;32m      3\u001b[0m \u001b[1;32mfrom\u001b[0m \u001b[0mdatetime\u001b[0m \u001b[1;32mimport\u001b[0m \u001b[0mdate\u001b[0m\u001b[1;33m,\u001b[0m \u001b[0mdatetime\u001b[0m\u001b[1;33m\u001b[0m\u001b[1;33m\u001b[0m\u001b[0m\n",
      "\u001b[1;31mModuleNotFoundError\u001b[0m: No module named 'pandas_datareader'"
     ]
    }
   ],
   "source": [
    "from pandas.testing import assert_frame_equal\n",
    "from pandas_datareader import data as dr\n",
    "from datetime import date, datetime"
   ]
  },
  {
   "cell_type": "code",
   "execution_count": null,
   "metadata": {
    "colab": {},
    "colab_type": "code",
    "id": "1AtEwfp4Ni2_"
   },
   "outputs": [],
   "source": [
    "apple = dr.DataReader('AAPL', 'yahoo', start='1/1/2019', end='10/31/2019')\n",
    "amazon = dr.DataReader('AMZN', 'yahoo', start='1/1/2019', end='10/31/2019')\n",
    "google = dr.DataReader('GOOG', 'yahoo', start='1/1/2019', end='10/31/2019')"
   ]
  },
  {
   "cell_type": "code",
   "execution_count": null,
   "metadata": {
    "colab": {
     "base_uri": "https://localhost:8080/",
     "height": 480
    },
    "colab_type": "code",
    "executionInfo": {
     "elapsed": 2081,
     "status": "ok",
     "timestamp": 1589851429191,
     "user": {
      "displayName": "lingfung liu",
      "photoUrl": "",
      "userId": "15614447323883241219"
     },
     "user_tz": -480
    },
    "id": "uW45MR9uNt6u",
    "outputId": "b19cd2e2-6b86-45f8-a62c-67ed35a7ff18"
   },
   "outputs": [],
   "source": [
    "google"
   ]
  },
  {
   "cell_type": "markdown",
   "metadata": {
    "colab_type": "text",
    "id": "2yZwJK5_PCIE"
   },
   "source": [
    "Let's briefly discuss the meanings of these different prices. Open is the price of the stock at the beginning of the trading day, high is the highest price of the stock on that trading day, low the lowest price of the stock on that trading day, and close the price of the stock at closing time. Volume indicates how many stocks were traded. Adjusted close is the closing price adjusted for dividend payments, splits, and other corporate actions which directly influence overall return."
   ]
  },
  {
   "cell_type": "code",
   "execution_count": null,
   "metadata": {
    "colab": {
     "base_uri": "https://localhost:8080/",
     "height": 325
    },
    "colab_type": "code",
    "executionInfo": {
     "elapsed": 2193,
     "status": "ok",
     "timestamp": 1589851433393,
     "user": {
      "displayName": "lingfung liu",
      "photoUrl": "",
      "userId": "15614447323883241219"
     },
     "user_tz": -480
    },
    "id": "Z6zszimIPLue",
    "outputId": "1d7062c9-0887-47ea-8b1a-3a97eb18e6ff"
   },
   "outputs": [],
   "source": [
    "apple[\"Adj Close\"].plot(grid = True, figsize=(8, 5))\n",
    "plt.show()"
   ]
  },
  {
   "cell_type": "markdown",
   "metadata": {
    "colab_type": "text",
    "id": "UDhBjX8HPK2Z"
   },
   "source": [
    "We may want to compare stocks, compare them to the market, or look at other securities. So we often want to plot multiple financial instruments together. To do so, we need to first combine adjusted closing price data of different stocks into one `DataFrame`. \n",
    "\n",
    "1. Create a `DataFrame` containing the adjusted closing prices for all 3 stocks. Name it `stock`. It should look like as follows:\n"
   ]
  },
  {
   "cell_type": "markdown",
   "metadata": {
    "colab_type": "text",
    "id": "QR4Xt-OJ3X6X"
   },
   "source": [
    "\n",
    "<table border=\"1\" class=\"dataframe\">\n",
    "  <thead>\n",
    "    <tr style=\"text-align: right;\">\n",
    "      <th></th>\n",
    "      <th>AAPL</th>\n",
    "      <th>AMZN</th>\n",
    "      <th>GOOG</th>\n",
    "    </tr>\n",
    "    <tr>\n",
    "      <th>Date</th>\n",
    "      <th></th>\n",
    "      <th></th>\n",
    "      <th></th>\n",
    "    </tr>\n",
    "  </thead>\n",
    "  <tbody>\n",
    "    <tr>\n",
    "      <th>2019-01-02</th>\n",
    "      <td>156.049484</td>\n",
    "      <td>1539.130005</td>\n",
    "      <td>1045.849976</td>\n",
    "    </tr>\n",
    "    <tr>\n",
    "      <th>2019-01-03</th>\n",
    "      <td>140.505798</td>\n",
    "      <td>1500.280029</td>\n",
    "      <td>1016.059998</td>\n",
    "    </tr>\n",
    "    <tr>\n",
    "      <th>2019-01-04</th>\n",
    "      <td>146.503891</td>\n",
    "      <td>1575.390015</td>\n",
    "      <td>1070.709961</td>\n",
    "    </tr>\n",
    "    <tr>\n",
    "      <th>2019-01-07</th>\n",
    "      <td>146.177811</td>\n",
    "      <td>1629.510010</td>\n",
    "      <td>1068.390015</td>\n",
    "    </tr>\n",
    "    <tr>\n",
    "      <th>2019-01-08</th>\n",
    "      <td>148.964386</td>\n",
    "      <td>1656.579956</td>\n",
    "      <td>1076.280029</td>\n",
    "    </tr>\n",
    "    <tr>\n",
    "      <th>...</th>\n",
    "      <td>...</td>\n",
    "      <td>...</td>\n",
    "      <td>...</td>\n",
    "    </tr>\n",
    "    <tr>\n",
    "      <th>2019-10-25</th>\n",
    "      <td>246.580002</td>\n",
    "      <td>1761.329956</td>\n",
    "      <td>1265.130005</td>\n",
    "    </tr>\n",
    "    <tr>\n",
    "      <th>2019-10-28</th>\n",
    "      <td>249.050003</td>\n",
    "      <td>1777.079956</td>\n",
    "      <td>1290.000000</td>\n",
    "    </tr>\n",
    "    <tr>\n",
    "      <th>2019-10-29</th>\n",
    "      <td>243.289993</td>\n",
    "      <td>1762.709961</td>\n",
    "      <td>1262.619995</td>\n",
    "    </tr>\n",
    "    <tr>\n",
    "      <th>2019-10-30</th>\n",
    "      <td>243.259995</td>\n",
    "      <td>1779.989990</td>\n",
    "      <td>1261.290039</td>\n",
    "    </tr>\n",
    "    <tr>\n",
    "      <th>2019-10-31</th>\n",
    "      <td>248.759995</td>\n",
    "      <td>1776.660034</td>\n",
    "      <td>1260.109985</td>\n",
    "    </tr>\n",
    "  </tbody>\n",
    "</table>"
   ]
  },
  {
   "cell_type": "code",
   "execution_count": null,
   "metadata": {
    "colab": {
     "base_uri": "https://localhost:8080/",
     "height": 480
    },
    "colab_type": "code",
    "executionInfo": {
     "elapsed": 1551,
     "status": "ok",
     "timestamp": 1589851440376,
     "user": {
      "displayName": "lingfung liu",
      "photoUrl": "",
      "userId": "15614447323883241219"
     },
     "user_tz": -480
    },
    "id": "k555D7J1QfHO",
    "outputId": "8ff4e3fe-dd47-4c9e-9390-963b832b3b22"
   },
   "outputs": [],
   "source": [
    "# Write your code here\n",
    "\n",
    "stock = pd.DataFrame({\"AAPL\":apple['Adj Close'], \"AMZN\":amazon['Adj Close'], \"GOOG\" : google['Adj Close']})\n",
    "stock"
   ]
  },
  {
   "cell_type": "markdown",
   "metadata": {
    "colab_type": "text",
    "id": "GWxelBoN2qDm"
   },
   "source": [
    "Now we can plot their adjusted closing prices together:"
   ]
  },
  {
   "cell_type": "code",
   "execution_count": null,
   "metadata": {
    "colab": {
     "base_uri": "https://localhost:8080/",
     "height": 325
    },
    "colab_type": "code",
    "executionInfo": {
     "elapsed": 3399,
     "status": "ok",
     "timestamp": 1589851447933,
     "user": {
      "displayName": "lingfung liu",
      "photoUrl": "",
      "userId": "15614447323883241219"
     },
     "user_tz": -480
    },
    "id": "hyHzYJ_UjlBY",
    "outputId": "3fde8540-d079-48b3-ed5c-0890bc5efe5a"
   },
   "outputs": [],
   "source": [
    "stock.plot(grid = True, figsize=(12, 5))\n",
    "plt.show()"
   ]
  },
  {
   "cell_type": "markdown",
   "metadata": {
    "colab_type": "text",
    "id": "g06_ekdejuaU"
   },
   "source": [
    "As we can see, Google's and Amazon's stocks are much more expensive than Apple's, and this difference makes Apple's stock appear much less volatile than it truly is (that is, its price appears to not deviate much).\n",
    "\n",
    "One solution would be to use two different scales when plotting the data; one scale will be used by Google and Amazon stocks, and the other by Apple.\n",
    "\n"
   ]
  },
  {
   "cell_type": "code",
   "execution_count": null,
   "metadata": {
    "colab": {
     "base_uri": "https://localhost:8080/",
     "height": 325
    },
    "colab_type": "code",
    "executionInfo": {
     "elapsed": 2286,
     "status": "ok",
     "timestamp": 1589851454546,
     "user": {
      "displayName": "lingfung liu",
      "photoUrl": "",
      "userId": "15614447323883241219"
     },
     "user_tz": -480
    },
    "id": "3tY3LMlGlO-o",
    "outputId": "7c5360e9-c0b0-430f-b9d0-36b5a9014968"
   },
   "outputs": [],
   "source": [
    "stock.plot(secondary_y = [\"AAPL\"], grid = True, figsize=(12, 5))\n",
    "plt.show()"
   ]
  },
  {
   "cell_type": "markdown",
   "metadata": {
    "colab_type": "text",
    "id": "Jno9_Rt9qcLS"
   },
   "source": [
    "When trading, we are actually more concerned about the relative change of an asset rather than its absolute price. Therefore, a better solution would be to plot the stock's returns. If we consider the stock's return since the beginning of the period of interest, we can plot:\n",
    "\n",
    "$$\n",
    "return_{t, 1}=\\frac{price_t}{price_1}\n",
    "$$\n",
    "\n",
    "So we need to tranform the adjusted closing price data in `stocks` to calculate the stock returns.\n",
    "\n",
    "2. Create a `DataFrame` containing the returns of all 3 stocks since the beginning of the period (01/02/2019). Name it `stock_return`. It should look like as follows:"
   ]
  },
  {
   "cell_type": "markdown",
   "metadata": {
    "colab_type": "text",
    "id": "-xKp0rM83yKQ"
   },
   "source": [
    "<table border=\"1\" class=\"dataframe\">\n",
    "  <thead>\n",
    "    <tr style=\"text-align: right;\">\n",
    "      <th></th>\n",
    "      <th>AAPL</th>\n",
    "      <th>AMZN</th>\n",
    "      <th>GOOG</th>\n",
    "    </tr>\n",
    "    <tr>\n",
    "      <th>Date</th>\n",
    "      <th></th>\n",
    "      <th></th>\n",
    "      <th></th>\n",
    "    </tr>\n",
    "  </thead>\n",
    "  <tbody>\n",
    "    <tr>\n",
    "      <th>2019-01-02</th>\n",
    "      <td>1.000000</td>\n",
    "      <td>1.000000</td>\n",
    "      <td>1.000000</td>\n",
    "    </tr>\n",
    "    <tr>\n",
    "      <th>2019-01-03</th>\n",
    "      <td>0.900393</td>\n",
    "      <td>0.974758</td>\n",
    "      <td>0.971516</td>\n",
    "    </tr>\n",
    "    <tr>\n",
    "      <th>2019-01-04</th>\n",
    "      <td>0.938830</td>\n",
    "      <td>1.023559</td>\n",
    "      <td>1.023770</td>\n",
    "    </tr>\n",
    "    <tr>\n",
    "      <th>2019-01-07</th>\n",
    "      <td>0.936740</td>\n",
    "      <td>1.058721</td>\n",
    "      <td>1.021552</td>\n",
    "    </tr>\n",
    "    <tr>\n",
    "      <th>2019-01-08</th>\n",
    "      <td>0.954597</td>\n",
    "      <td>1.076309</td>\n",
    "      <td>1.029096</td>\n",
    "    </tr>\n",
    "    <tr>\n",
    "      <th>...</th>\n",
    "      <td>...</td>\n",
    "      <td>...</td>\n",
    "      <td>...</td>\n",
    "    </tr>\n",
    "    <tr>\n",
    "      <th>2019-10-25</th>\n",
    "      <td>1.580140</td>\n",
    "      <td>1.144367</td>\n",
    "      <td>1.209667</td>\n",
    "    </tr>\n",
    "    <tr>\n",
    "      <th>2019-10-28</th>\n",
    "      <td>1.595968</td>\n",
    "      <td>1.154600</td>\n",
    "      <td>1.233447</td>\n",
    "    </tr>\n",
    "    <tr>\n",
    "      <th>2019-10-29</th>\n",
    "      <td>1.559057</td>\n",
    "      <td>1.145264</td>\n",
    "      <td>1.207267</td>\n",
    "    </tr>\n",
    "    <tr>\n",
    "      <th>2019-10-30</th>\n",
    "      <td>1.558864</td>\n",
    "      <td>1.156491</td>\n",
    "      <td>1.205995</td>\n",
    "    </tr>\n",
    "    <tr>\n",
    "      <th>2019-10-31</th>\n",
    "      <td>1.594110</td>\n",
    "      <td>1.154327</td>\n",
    "      <td>1.204867</td>\n",
    "    </tr>\n",
    "  </tbody>\n",
    "</table>"
   ]
  },
  {
   "cell_type": "code",
   "execution_count": null,
   "metadata": {
    "colab": {
     "base_uri": "https://localhost:8080/",
     "height": 480
    },
    "colab_type": "code",
    "executionInfo": {
     "elapsed": 901,
     "status": "ok",
     "timestamp": 1589851460844,
     "user": {
      "displayName": "lingfung liu",
      "photoUrl": "",
      "userId": "15614447323883241219"
     },
     "user_tz": -480
    },
    "id": "3qMuUeIyttEd",
    "outputId": "8011d8ab-9897-461a-e0a8-4cefb45a84b3"
   },
   "outputs": [],
   "source": [
    "# Write your code here\n",
    "\n",
    "stock_return = stock.apply(lambda x : x/x[0])\n",
    "stock_return\n",
    " \n"
   ]
  },
  {
   "cell_type": "code",
   "execution_count": null,
   "metadata": {
    "colab": {
     "base_uri": "https://localhost:8080/",
     "height": 325
    },
    "colab_type": "code",
    "executionInfo": {
     "elapsed": 2253,
     "status": "ok",
     "timestamp": 1589851527049,
     "user": {
      "displayName": "lingfung liu",
      "photoUrl": "",
      "userId": "15614447323883241219"
     },
     "user_tz": -480
    },
    "id": "AzVo0JiauXeA",
    "outputId": "fbbff021-96f6-4666-eb4f-d72d634e783e"
   },
   "outputs": [],
   "source": [
    "stock_return.plot(grid = True, figsize=(12, 5)).axhline(y = 1, color = \"k\", ls=\"dashed\")\n",
    "plt.show()"
   ]
  },
  {
   "cell_type": "markdown",
   "metadata": {
    "colab_type": "text",
    "id": "OwZl-gQqvsb3"
   },
   "source": [
    "We often want to compare the performance of stocks to the performance of the overall market. [SPY](https://finance.yahoo.com/quote/SPY/), which is the ticker symbol for the SPDR S&P 500 exchange-traded mutual fund (ETF), is a fund that attempts only to imitate the composition of the [S&P 500 stock index](https://finance.yahoo.com/quote/%5EGSPC?p=^GSPC), and thus represents the \"value in the market\"."
   ]
  },
  {
   "cell_type": "code",
   "execution_count": null,
   "metadata": {
    "colab": {
     "base_uri": "https://localhost:8080/",
     "height": 480
    },
    "colab_type": "code",
    "executionInfo": {
     "elapsed": 1141,
     "status": "ok",
     "timestamp": 1589851530137,
     "user": {
      "displayName": "lingfung liu",
      "photoUrl": "",
      "userId": "15614447323883241219"
     },
     "user_tz": -480
    },
    "id": "WK37EEkXvr3F",
    "outputId": "168e098f-9b07-4e61-c636-33aac265896d"
   },
   "outputs": [],
   "source": [
    "spdr = dr.DataReader('SPY', 'yahoo', start='1/1/2019', end='10/31/2019'); spdr"
   ]
  },
  {
   "cell_type": "markdown",
   "metadata": {
    "colab_type": "text",
    "id": "lpLRui3ZRT0O"
   },
   "source": [
    "3. Add a column for the adjusted closing price of ETF to the `stock` `DataFrame`.  It should look like as follows:  "
   ]
  },
  {
   "cell_type": "markdown",
   "metadata": {
    "colab_type": "text",
    "id": "hkwUPjCWBCuv"
   },
   "source": [
    "<table border=\"1\" class=\"dataframe\">\n",
    "  <thead>\n",
    "    <tr style=\"text-align: right;\">\n",
    "      <th></th>\n",
    "      <th>AAPL</th>\n",
    "      <th>AMZN</th>\n",
    "      <th>GOOG</th>\n",
    "      <th>SPY</th>\n",
    "    </tr>\n",
    "    <tr>\n",
    "      <th>Date</th>\n",
    "      <th></th>\n",
    "      <th></th>\n",
    "      <th></th>\n",
    "      <th></th>\n",
    "    </tr>\n",
    "  </thead>\n",
    "  <tbody>\n",
    "    <tr>\n",
    "      <th>2019-01-02</th>\n",
    "      <td>156.049484</td>\n",
    "      <td>1539.130005</td>\n",
    "      <td>1045.849976</td>\n",
    "      <td>246.737808</td>\n",
    "    </tr>\n",
    "    <tr>\n",
    "      <th>2019-01-03</th>\n",
    "      <td>140.505798</td>\n",
    "      <td>1500.280029</td>\n",
    "      <td>1016.059998</td>\n",
    "      <td>240.849976</td>\n",
    "    </tr>\n",
    "    <tr>\n",
    "      <th>2019-01-04</th>\n",
    "      <td>146.503891</td>\n",
    "      <td>1575.390015</td>\n",
    "      <td>1070.709961</td>\n",
    "      <td>248.917435</td>\n",
    "    </tr>\n",
    "    <tr>\n",
    "      <th>2019-01-07</th>\n",
    "      <td>146.177811</td>\n",
    "      <td>1629.510010</td>\n",
    "      <td>1068.390015</td>\n",
    "      <td>250.880051</td>\n",
    "    </tr>\n",
    "    <tr>\n",
    "      <th>2019-01-08</th>\n",
    "      <td>148.964386</td>\n",
    "      <td>1656.579956</td>\n",
    "      <td>1076.280029</td>\n",
    "      <td>253.237152</td>\n",
    "    </tr>\n",
    "    <tr>\n",
    "      <th>...</th>\n",
    "      <td>...</td>\n",
    "      <td>...</td>\n",
    "      <td>...</td>\n",
    "      <td>...</td>\n",
    "    </tr>\n",
    "    <tr>\n",
    "      <th>2019-10-25</th>\n",
    "      <td>246.580002</td>\n",
    "      <td>1761.329956</td>\n",
    "      <td>1265.130005</td>\n",
    "      <td>301.600006</td>\n",
    "    </tr>\n",
    "    <tr>\n",
    "      <th>2019-10-28</th>\n",
    "      <td>249.050003</td>\n",
    "      <td>1777.079956</td>\n",
    "      <td>1290.000000</td>\n",
    "      <td>303.299988</td>\n",
    "    </tr>\n",
    "    <tr>\n",
    "      <th>2019-10-29</th>\n",
    "      <td>243.289993</td>\n",
    "      <td>1762.709961</td>\n",
    "      <td>1262.619995</td>\n",
    "      <td>303.209991</td>\n",
    "    </tr>\n",
    "    <tr>\n",
    "      <th>2019-10-30</th>\n",
    "      <td>243.259995</td>\n",
    "      <td>1779.989990</td>\n",
    "      <td>1261.290039</td>\n",
    "      <td>304.140015</td>\n",
    "    </tr>\n",
    "    <tr>\n",
    "      <th>2019-10-31</th>\n",
    "      <td>248.759995</td>\n",
    "      <td>1776.660034</td>\n",
    "      <td>1260.109985</td>\n",
    "      <td>303.329987</td>\n",
    "    </tr>\n",
    "  </tbody>\n",
    "</table>"
   ]
  },
  {
   "cell_type": "code",
   "execution_count": null,
   "metadata": {
    "colab": {
     "base_uri": "https://localhost:8080/",
     "height": 480
    },
    "colab_type": "code",
    "executionInfo": {
     "elapsed": 940,
     "status": "ok",
     "timestamp": 1589851534115,
     "user": {
      "displayName": "lingfung liu",
      "photoUrl": "",
      "userId": "15614447323883241219"
     },
     "user_tz": -480
    },
    "id": "5vgNdNrXTFJN",
    "outputId": "2d7759f3-4a9b-4b55-911f-b49a2cc9e357"
   },
   "outputs": [],
   "source": [
    "# Write your code here\n",
    "\n",
    "stock[\"SPY\"] = spdr['Adj Close']\n",
    "stock"
   ]
  },
  {
   "cell_type": "markdown",
   "metadata": {
    "colab_type": "text",
    "id": "is95yYs2A4CY"
   },
   "source": [
    "4. Create a DataFrame containing the returns of the 3 stocks and the ETF since the beginning of the period (01/02/2019). Reassign the name  `stock_return` to it."
   ]
  },
  {
   "cell_type": "code",
   "execution_count": null,
   "metadata": {
    "colab": {
     "base_uri": "https://localhost:8080/",
     "height": 37
    },
    "colab_type": "code",
    "executionInfo": {
     "elapsed": 1181,
     "status": "ok",
     "timestamp": 1589852529883,
     "user": {
      "displayName": "lingfung liu",
      "photoUrl": "",
      "userId": "15614447323883241219"
     },
     "user_tz": -480
    },
    "id": "BT8Xx2K6mFiR",
    "outputId": "64b132c1-27b1-4b6f-f5d1-57f449182d90"
   },
   "outputs": [],
   "source": [
    "stock.iloc[0,3]"
   ]
  },
  {
   "cell_type": "code",
   "execution_count": null,
   "metadata": {
    "colab": {
     "base_uri": "https://localhost:8080/",
     "height": 480
    },
    "colab_type": "code",
    "executionInfo": {
     "elapsed": 1063,
     "status": "ok",
     "timestamp": 1589851715709,
     "user": {
      "displayName": "lingfung liu",
      "photoUrl": "",
      "userId": "15614447323883241219"
     },
     "user_tz": -480
    },
    "id": "h7I3z94QBNXd",
    "outputId": "944f3d12-0f21-4797-ab57-e91bdb621611"
   },
   "outputs": [],
   "source": [
    "# Write your code here\n",
    "\n",
    "stock_return[\"SPY\"] = stock[\"SPY\"]/stock.iloc[0,3]\n",
    "stock_return\n"
   ]
  },
  {
   "cell_type": "code",
   "execution_count": null,
   "metadata": {
    "colab": {
     "base_uri": "https://localhost:8080/",
     "height": 325
    },
    "colab_type": "code",
    "executionInfo": {
     "elapsed": 1731,
     "status": "ok",
     "timestamp": 1589852950529,
     "user": {
      "displayName": "lingfung liu",
      "photoUrl": "",
      "userId": "15614447323883241219"
     },
     "user_tz": -480
    },
    "id": "zhJhR5ySTSqa",
    "outputId": "24e4e4fd-5084-4fcf-c0d4-25342a92e3df"
   },
   "outputs": [],
   "source": [
    "# plot the resulting DataFrame creates the following figure\n",
    "stock_return.plot(grid = True, figsize=(12, 5)).axhline(y=1, color = \"k\", ls=\"dashed\")\n",
    "plt.show()"
   ]
  },
  {
   "cell_type": "markdown",
   "metadata": {
    "colab_type": "text",
    "id": "WoqO33qybOYi"
   },
   "source": [
    "5. Calculate the monthly stock return for the 3 stocks and the ETF. Organize the output in the following format that is convenient for stock-by-stock comparison.\n",
    "<font color='red'>Hint: create an auxiliary column for month in the `stock` DataFrame. Use the month column as the key column to define the needed group-wise operation.</div> \n",
    "\n"
   ]
  },
  {
   "cell_type": "markdown",
   "metadata": {
    "colab_type": "text",
    "id": "NnM1gZetFkEW"
   },
   "source": [
    "<table border=\"1\" class=\"dataframe\">\n",
    "  <thead>\n",
    "    <tr style=\"text-align: right;\">\n",
    "      <th>Symbol</th>\n",
    "      <th>AAPL</th>\n",
    "      <th>AMZN</th>\n",
    "      <th>GOOG</th>\n",
    "      <th>SPY</th>\n",
    "    </tr>\n",
    "    <tr>\n",
    "      <th>Month</th>\n",
    "      <th></th>\n",
    "      <th></th>\n",
    "      <th></th>\n",
    "      <th></th>\n",
    "    </tr>\n",
    "  </thead>\n",
    "  <tbody>\n",
    "    <tr>\n",
    "      <th>1</th>\n",
    "      <td>0.053951</td>\n",
    "      <td>0.116689</td>\n",
    "      <td>0.067428</td>\n",
    "      <td>0.078943</td>\n",
    "    </tr>\n",
    "    <tr>\n",
    "      <th>2</th>\n",
    "      <td>0.044275</td>\n",
    "      <td>0.008363</td>\n",
    "      <td>0.008256</td>\n",
    "      <td>0.031919</td>\n",
    "    </tr>\n",
    "    <tr>\n",
    "      <th>3</th>\n",
    "      <td>0.085615</td>\n",
    "      <td>0.065214</td>\n",
    "      <td>0.028326</td>\n",
    "      <td>0.011783</td>\n",
    "    </tr>\n",
    "    <tr>\n",
    "      <th>4</th>\n",
    "      <td>0.049310</td>\n",
    "      <td>0.061917</td>\n",
    "      <td>-0.004982</td>\n",
    "      <td>0.028653</td>\n",
    "    </tr>\n",
    "    <tr>\n",
    "      <th>5</th>\n",
    "      <td>-0.165190</td>\n",
    "      <td>-0.071383</td>\n",
    "      <td>-0.055176</td>\n",
    "      <td>-0.056681</td>\n",
    "    </tr>\n",
    "    <tr>\n",
    "      <th>6</th>\n",
    "      <td>0.142066</td>\n",
    "      <td>0.118710</td>\n",
    "      <td>0.043118</td>\n",
    "      <td>0.072313</td>\n",
    "    </tr>\n",
    "    <tr>\n",
    "      <th>7</th>\n",
    "      <td>0.057008</td>\n",
    "      <td>-0.028826</td>\n",
    "      <td>0.108138</td>\n",
    "      <td>0.005987</td>\n",
    "    </tr>\n",
    "    <tr>\n",
    "      <th>8</th>\n",
    "      <td>0.005293</td>\n",
    "      <td>-0.042596</td>\n",
    "      <td>-0.017295</td>\n",
    "      <td>-0.008106</td>\n",
    "    </tr>\n",
    "    <tr>\n",
    "      <th>9</th>\n",
    "      <td>0.088819</td>\n",
    "      <td>-0.030131</td>\n",
    "      <td>0.043316</td>\n",
    "      <td>0.025454</td>\n",
    "    </tr>\n",
    "    <tr>\n",
    "      <th>10</th>\n",
    "      <td>0.107618</td>\n",
    "      <td>0.023628</td>\n",
    "      <td>0.045648</td>\n",
    "      <td>0.034409</td>\n",
    "    </tr>\n",
    "  </tbody>\n",
    "</table>"
   ]
  },
  {
   "cell_type": "markdown",
   "metadata": {
    "colab_type": "text",
    "id": "qxLZwhskGF0Z"
   },
   "source": [
    "To calculate a monthly stock return, we need to compare the adjusted closing price at the end of a month with the adjusted closing price at the start of the month. The formula for return begins by dividing the last day's price by the first day's price in a month. The number 1 is then subtracted from this result."
   ]
  },
  {
   "cell_type": "code",
   "execution_count": null,
   "metadata": {
    "colab": {},
    "colab_type": "code",
    "id": "j5gQAXES0ZsX"
   },
   "outputs": [],
   "source": [
    "stock.reset_index(inplace = True)"
   ]
  },
  {
   "cell_type": "code",
   "execution_count": null,
   "metadata": {
    "colab": {
     "base_uri": "https://localhost:8080/",
     "height": 447
    },
    "colab_type": "code",
    "executionInfo": {
     "elapsed": 1157,
     "status": "ok",
     "timestamp": 1589852959605,
     "user": {
      "displayName": "lingfung liu",
      "photoUrl": "",
      "userId": "15614447323883241219"
     },
     "user_tz": -480
    },
    "id": "ZfST-EoJ0fiW",
    "outputId": "5594c82c-d238-409d-b312-d1ba65272736"
   },
   "outputs": [],
   "source": [
    "stock"
   ]
  },
  {
   "cell_type": "code",
   "execution_count": null,
   "metadata": {
    "colab": {
     "base_uri": "https://localhost:8080/",
     "height": 37
    },
    "colab_type": "code",
    "executionInfo": {
     "elapsed": 1217,
     "status": "ok",
     "timestamp": 1589852962739,
     "user": {
      "displayName": "lingfung liu",
      "photoUrl": "",
      "userId": "15614447323883241219"
     },
     "user_tz": -480
    },
    "id": "QHMLiWLG1IW-",
    "outputId": "3beeae83-a10c-44d2-9194-52188fee2edf"
   },
   "outputs": [],
   "source": [
    "stock.loc[0,\"Date\"].month"
   ]
  },
  {
   "cell_type": "code",
   "execution_count": null,
   "metadata": {
    "colab": {
     "base_uri": "https://localhost:8080/",
     "height": 469
    },
    "colab_type": "code",
    "executionInfo": {
     "elapsed": 1069,
     "status": "ok",
     "timestamp": 1589852997987,
     "user": {
      "displayName": "lingfung liu",
      "photoUrl": "",
      "userId": "15614447323883241219"
     },
     "user_tz": -480
    },
    "id": "0B4OEvDPYz3C",
    "outputId": "310715c9-0d0e-4736-eafa-a9ff8f008066"
   },
   "outputs": [],
   "source": [
    "# Write your code here\n",
    " \n",
    "\n",
    " \n",
    "stock['Month'] = stock['Date'].map(lambda x: x.month); stock\n",
    "stock1 = pd.melt(stock,id_vars=[\"Date\",\"Month\"],var_name = \"Symbol\", value_name = \"Adj Close\")\n",
    "stock1_grp = stock1.groupby([\"Month\",\"Symbol\"])\n",
    "stock1_grp.agg([(\"Mon Return\", lambda x:x.iloc[len(x)-1]/x.iloc[0]-1)]).reset_index()\n",
    "stock2 = stock1_grp.agg([(\"\",lambda x : x.iloc[len(x)-1]/x.iloc[0]-1)]).reset_index()\n",
    "stocknew=pd.pivot_table(stock2,values = \"Adj Close\",index = \"Month\",columns = \"Symbol\")\n",
    "display(stocknew)\n",
    "\n"
   ]
  },
  {
   "cell_type": "markdown",
   "metadata": {
    "colab_type": "text",
    "id": "2vFIj8i2kXMo"
   },
   "source": [
    "\n",
    "### 2. Data munging for visualization and machine learning\n",
    "\n",
    "The iris dataset is a famous dataset that illustrates classification tasks in machine learning (or data mining). It contains the sepal and petal length and width of 150 iris flowers of 3 different species: Iris-Setosa, Iris-Versicolor, and Iris-Virginica. Given sepal and petal lengths and widths, we can train a multiclass classifier capable of predicting the species of an iris.\n",
    "\n",
    "<img alt=\"virginica_picture\" src=\"https://drive.google.com/uc?id=1K2V1aNQ2noYkWfd0kAvuzPyt-VGEubu_\" width=580> \n",
    "\n",
    "\n",
    "The first rule of machine learning is to ***look at our data first***. \n",
    "\n",
    "Seaborn has a `load_dataset` function that allows us to quickly access sample datasets from its [online  repository](https://github.com/mwaskom/seaborn-data), which contains this iris dataset: "
   ]
  },
  {
   "cell_type": "code",
   "execution_count": null,
   "metadata": {
    "colab": {
     "base_uri": "https://localhost:8080/",
     "height": 447
    },
    "colab_type": "code",
    "executionInfo": {
     "elapsed": 1006,
     "status": "ok",
     "timestamp": 1589853078232,
     "user": {
      "displayName": "lingfung liu",
      "photoUrl": "",
      "userId": "15614447323883241219"
     },
     "user_tz": -480
    },
    "id": "y1pSXb_wHbX6",
    "outputId": "4a1f5f61-5901-40ea-8dd4-332d132254ff"
   },
   "outputs": [],
   "source": [
    "iris = sns.load_dataset(\"iris\"); iris"
   ]
  },
  {
   "cell_type": "code",
   "execution_count": null,
   "metadata": {
    "colab": {
     "base_uri": "https://localhost:8080/",
     "height": 268
    },
    "colab_type": "code",
    "executionInfo": {
     "elapsed": 1163,
     "status": "ok",
     "timestamp": 1589853082012,
     "user": {
      "displayName": "lingfung liu",
      "photoUrl": "",
      "userId": "15614447323883241219"
     },
     "user_tz": -480
    },
    "id": "nG2qzEJxwZ4q",
    "outputId": "ecb9763b-dcf5-4ea4-d5b7-a912cabbf5d7"
   },
   "outputs": [],
   "source": [
    "iris.info()"
   ]
  },
  {
   "cell_type": "code",
   "execution_count": null,
   "metadata": {
    "colab": {
     "base_uri": "https://localhost:8080/",
     "height": 315
    },
    "colab_type": "code",
    "executionInfo": {
     "elapsed": 1252,
     "status": "ok",
     "timestamp": 1589853084060,
     "user": {
      "displayName": "lingfung liu",
      "photoUrl": "",
      "userId": "15614447323883241219"
     },
     "user_tz": -480
    },
    "id": "e_GyIEdPwe9c",
    "outputId": "219cdc60-d47d-46c0-ce25-1ce660ab72f4"
   },
   "outputs": [],
   "source": [
    "iris.describe()"
   ]
  },
  {
   "cell_type": "markdown",
   "metadata": {
    "colab_type": "text",
    "id": "-VN-roA7M43Z"
   },
   "source": [
    "\n",
    "To unveil possible patterns obsecured in data, we are going to use a seaborn function, `relplot`, to create a facet plot that includes two sub scatter plots as shown below:\n",
    "\n",
    "<img alt=\"virginica_picture\" src=\"https://drive.google.com/uc?id=1eNXU8_XNxUZ2KwTck2FmoP9Z9OrxbOn4\" width=680> \n",
    "\n",
    "This plot reveals that the petal is more informative about iris species than the sepal, and should be included in a potential classifier first.\n",
    "\n",
    "This seaborn plotting function expects the following input `DataFrame`:\n"
   ]
  },
  {
   "cell_type": "markdown",
   "metadata": {
    "colab_type": "text",
    "id": "7pyjpu3_nGtU"
   },
   "source": [
    "\n",
    "<table border=\"1\" class=\"dataframe\">\n",
    "  <thead>\n",
    "    <tr style=\"text-align: right;\">\n",
    "      <th></th>\n",
    "      <th>id</th>\n",
    "      <th>feature</th>\n",
    "      <th>species</th>\n",
    "      <th>length</th>\n",
    "      <th>width</th>\n",
    "    </tr>\n",
    "  </thead>\n",
    "  <tbody>\n",
    "    <tr>\n",
    "      <th>0</th>\n",
    "      <td>0</td>\n",
    "      <td>petal</td>\n",
    "      <td>setosa</td>\n",
    "      <td>1.4</td>\n",
    "      <td>0.2</td>\n",
    "    </tr>\n",
    "    <tr>\n",
    "      <th>1</th>\n",
    "      <td>0</td>\n",
    "      <td>sepal</td>\n",
    "      <td>setosa</td>\n",
    "      <td>5.1</td>\n",
    "      <td>3.5</td>\n",
    "    </tr>\n",
    "    <tr>\n",
    "      <th>2</th>\n",
    "      <td>1</td>\n",
    "      <td>petal</td>\n",
    "      <td>setosa</td>\n",
    "      <td>1.4</td>\n",
    "      <td>0.2</td>\n",
    "    </tr>\n",
    "    <tr>\n",
    "      <th>3</th>\n",
    "      <td>1</td>\n",
    "      <td>sepal</td>\n",
    "      <td>setosa</td>\n",
    "      <td>4.9</td>\n",
    "      <td>3.0</td>\n",
    "    </tr>\n",
    "    <tr>\n",
    "      <th>4</th>\n",
    "      <td>2</td>\n",
    "      <td>petal</td>\n",
    "      <td>setosa</td>\n",
    "      <td>1.3</td>\n",
    "      <td>0.2</td>\n",
    "    </tr>\n",
    "    <tr>\n",
    "      <th>...</th>\n",
    "      <td>...</td>\n",
    "      <td>...</td>\n",
    "      <td>...</td>\n",
    "      <td>...</td>\n",
    "      <td>...</td>\n",
    "    </tr>\n",
    "    <tr>\n",
    "      <th>295</th>\n",
    "      <td>147</td>\n",
    "      <td>sepal</td>\n",
    "      <td>virginica</td>\n",
    "      <td>6.5</td>\n",
    "      <td>3.0</td>\n",
    "    </tr>\n",
    "    <tr>\n",
    "      <th>296</th>\n",
    "      <td>148</td>\n",
    "      <td>petal</td>\n",
    "      <td>virginica</td>\n",
    "      <td>5.4</td>\n",
    "      <td>2.3</td>\n",
    "    </tr>\n",
    "    <tr>\n",
    "      <th>297</th>\n",
    "      <td>148</td>\n",
    "      <td>sepal</td>\n",
    "      <td>virginica</td>\n",
    "      <td>6.2</td>\n",
    "      <td>3.4</td>\n",
    "    </tr>\n",
    "    <tr>\n",
    "      <th>298</th>\n",
    "      <td>149</td>\n",
    "      <td>petal</td>\n",
    "      <td>virginica</td>\n",
    "      <td>5.1</td>\n",
    "      <td>1.8</td>\n",
    "    </tr>\n",
    "    <tr>\n",
    "      <th>299</th>\n",
    "      <td>149</td>\n",
    "      <td>sepal</td>\n",
    "      <td>virginica</td>\n",
    "      <td>5.9</td>\n",
    "      <td>3.0</td>\n",
    "    </tr>\n",
    "  </tbody>\n",
    "</table>"
   ]
  },
  {
   "cell_type": "markdown",
   "metadata": {
    "colab_type": "text",
    "id": "1ZpEW14_oJDN"
   },
   "source": [
    "Please follow the instructions to derive intermediate `DataFrame`s that lead to the `DataFrame` of the above form.\n"
   ]
  },
  {
   "cell_type": "markdown",
   "metadata": {
    "colab_type": "text",
    "id": "d69nY3jfpENY"
   },
   "source": [
    "1. Create a new `id` column to track individual iris observations during the process of data transformations. The output should look like the following:\n",
    "\n",
    "<table border=\"1\" class=\"dataframe\">\n",
    "  <thead>\n",
    "    <tr style=\"text-align: right;\">\n",
    "      <th></th>\n",
    "      <th>id</th>\n",
    "      <th>sepal_length</th>\n",
    "      <th>sepal_width</th>\n",
    "      <th>petal_length</th>\n",
    "      <th>petal_width</th>\n",
    "      <th>species</th>\n",
    "    </tr>\n",
    "  </thead>\n",
    "  <tbody>\n",
    "    <tr>\n",
    "      <th>0</th>\n",
    "      <td>0</td>\n",
    "      <td>5.1</td>\n",
    "      <td>3.5</td>\n",
    "      <td>1.4</td>\n",
    "      <td>0.2</td>\n",
    "      <td>setosa</td>\n",
    "    </tr>\n",
    "    <tr>\n",
    "      <th>1</th>\n",
    "      <td>1</td>\n",
    "      <td>4.9</td>\n",
    "      <td>3.0</td>\n",
    "      <td>1.4</td>\n",
    "      <td>0.2</td>\n",
    "      <td>setosa</td>\n",
    "    </tr>\n",
    "    <tr>\n",
    "      <th>2</th>\n",
    "      <td>2</td>\n",
    "      <td>4.7</td>\n",
    "      <td>3.2</td>\n",
    "      <td>1.3</td>\n",
    "      <td>0.2</td>\n",
    "      <td>setosa</td>\n",
    "    </tr>\n",
    "    <tr>\n",
    "      <th>3</th>\n",
    "      <td>3</td>\n",
    "      <td>4.6</td>\n",
    "      <td>3.1</td>\n",
    "      <td>1.5</td>\n",
    "      <td>0.2</td>\n",
    "      <td>setosa</td>\n",
    "    </tr>\n",
    "    <tr>\n",
    "      <th>4</th>\n",
    "      <td>4</td>\n",
    "      <td>5.0</td>\n",
    "      <td>3.6</td>\n",
    "      <td>1.4</td>\n",
    "      <td>0.2</td>\n",
    "      <td>setosa</td>\n",
    "    </tr>\n",
    "    <tr>\n",
    "      <th>...</th>\n",
    "      <td>...</td>\n",
    "      <td>...</td>\n",
    "      <td>...</td>\n",
    "      <td>...</td>\n",
    "      <td>...</td>\n",
    "      <td>...</td>\n",
    "    </tr>\n",
    "    <tr>\n",
    "      <th>145</th>\n",
    "      <td>145</td>\n",
    "      <td>6.7</td>\n",
    "      <td>3.0</td>\n",
    "      <td>5.2</td>\n",
    "      <td>2.3</td>\n",
    "      <td>virginica</td>\n",
    "    </tr>\n",
    "    <tr>\n",
    "      <th>146</th>\n",
    "      <td>146</td>\n",
    "      <td>6.3</td>\n",
    "      <td>2.5</td>\n",
    "      <td>5.0</td>\n",
    "      <td>1.9</td>\n",
    "      <td>virginica</td>\n",
    "    </tr>\n",
    "    <tr>\n",
    "      <th>147</th>\n",
    "      <td>147</td>\n",
    "      <td>6.5</td>\n",
    "      <td>3.0</td>\n",
    "      <td>5.2</td>\n",
    "      <td>2.0</td>\n",
    "      <td>virginica</td>\n",
    "    </tr>\n",
    "    <tr>\n",
    "      <th>148</th>\n",
    "      <td>148</td>\n",
    "      <td>6.2</td>\n",
    "      <td>3.4</td>\n",
    "      <td>5.4</td>\n",
    "      <td>2.3</td>\n",
    "      <td>virginica</td>\n",
    "    </tr>\n",
    "    <tr>\n",
    "      <th>149</th>\n",
    "      <td>149</td>\n",
    "      <td>5.9</td>\n",
    "      <td>3.0</td>\n",
    "      <td>5.1</td>\n",
    "      <td>1.8</td>\n",
    "      <td>virginica</td>\n",
    "    </tr>\n",
    "  </tbody>\n",
    "</table>"
   ]
  },
  {
   "cell_type": "code",
   "execution_count": null,
   "metadata": {
    "colab": {
     "base_uri": "https://localhost:8080/",
     "height": 447
    },
    "colab_type": "code",
    "executionInfo": {
     "elapsed": 1229,
     "status": "ok",
     "timestamp": 1589853134350,
     "user": {
      "displayName": "lingfung liu",
      "photoUrl": "",
      "userId": "15614447323883241219"
     },
     "user_tz": -480
    },
    "id": "RT3TQkWop5rL",
    "outputId": "0fd784d2-aa98-424b-bcf5-8a36bc6842c9"
   },
   "outputs": [],
   "source": [
    "# write your code here\n",
    "iris.reset_index(inplace = True)\n",
    "iris.rename({'index':'id'},axis = 1, inplace= True)\n",
    "iris\n",
    "\n",
    "\n"
   ]
  },
  {
   "cell_type": "markdown",
   "metadata": {
    "colab_type": "text",
    "id": "B5LF5Y5lqH16"
   },
   "source": [
    "2. Convert the `DataFrame` from wide format to long format, pushing data that currently spread across `sepal_length`,\t`sepal_width`,\t`petal_length`,\tand `petal_width` columns into rows.  Name the resulting `DataFrame` `iris_l`. The output should look like the following:\n",
    "\n",
    "\n",
    "<table border=\"1\" class=\"dataframe\">\n",
    "  <thead>\n",
    "    <tr style=\"text-align: right;\">\n",
    "      <th></th>\n",
    "      <th>id</th>\n",
    "      <th>species</th>\n",
    "      <th>feature</th>\n",
    "      <th>value</th>\n",
    "    </tr>\n",
    "  </thead>\n",
    "  <tbody>\n",
    "    <tr>\n",
    "      <th>0</th>\n",
    "      <td>0</td>\n",
    "      <td>setosa</td>\n",
    "      <td>sepal_length</td>\n",
    "      <td>5.1</td>\n",
    "    </tr>\n",
    "    <tr>\n",
    "      <th>1</th>\n",
    "      <td>1</td>\n",
    "      <td>setosa</td>\n",
    "      <td>sepal_length</td>\n",
    "      <td>4.9</td>\n",
    "    </tr>\n",
    "    <tr>\n",
    "      <th>2</th>\n",
    "      <td>2</td>\n",
    "      <td>setosa</td>\n",
    "      <td>sepal_length</td>\n",
    "      <td>4.7</td>\n",
    "    </tr>\n",
    "    <tr>\n",
    "      <th>3</th>\n",
    "      <td>3</td>\n",
    "      <td>setosa</td>\n",
    "      <td>sepal_length</td>\n",
    "      <td>4.6</td>\n",
    "    </tr>\n",
    "    <tr>\n",
    "      <th>4</th>\n",
    "      <td>4</td>\n",
    "      <td>setosa</td>\n",
    "      <td>sepal_length</td>\n",
    "      <td>5.0</td>\n",
    "    </tr>\n",
    "    <tr>\n",
    "      <th>...</th>\n",
    "      <td>...</td>\n",
    "      <td>...</td>\n",
    "      <td>...</td>\n",
    "      <td>...</td>\n",
    "    </tr>\n",
    "    <tr>\n",
    "      <th>595</th>\n",
    "      <td>145</td>\n",
    "      <td>virginica</td>\n",
    "      <td>petal_width</td>\n",
    "      <td>2.3</td>\n",
    "    </tr>\n",
    "    <tr>\n",
    "      <th>596</th>\n",
    "      <td>146</td>\n",
    "      <td>virginica</td>\n",
    "      <td>petal_width</td>\n",
    "      <td>1.9</td>\n",
    "    </tr>\n",
    "    <tr>\n",
    "      <th>597</th>\n",
    "      <td>147</td>\n",
    "      <td>virginica</td>\n",
    "      <td>petal_width</td>\n",
    "      <td>2.0</td>\n",
    "    </tr>\n",
    "    <tr>\n",
    "      <th>598</th>\n",
    "      <td>148</td>\n",
    "      <td>virginica</td>\n",
    "      <td>petal_width</td>\n",
    "      <td>2.3</td>\n",
    "    </tr>\n",
    "    <tr>\n",
    "      <th>599</th>\n",
    "      <td>149</td>\n",
    "      <td>virginica</td>\n",
    "      <td>petal_width</td>\n",
    "      <td>1.8</td>\n",
    "    </tr>\n",
    "  </tbody>\n",
    "</table>"
   ]
  },
  {
   "cell_type": "code",
   "execution_count": null,
   "metadata": {
    "colab": {
     "base_uri": "https://localhost:8080/",
     "height": 447
    },
    "colab_type": "code",
    "executionInfo": {
     "elapsed": 1251,
     "status": "ok",
     "timestamp": 1589853229309,
     "user": {
      "displayName": "lingfung liu",
      "photoUrl": "",
      "userId": "15614447323883241219"
     },
     "user_tz": -480
    },
    "id": "Fu7y_cne08Od",
    "outputId": "d84d3b72-a877-4d08-c26a-6f85cbf8e091"
   },
   "outputs": [],
   "source": [
    "# write your code here\n",
    "\n",
    "\n",
    "iris_l = pd.melt(iris,id_vars=['id','species'],var_name = 'feature',value_name='value')\n",
    "iris_l\n",
    "\n"
   ]
  },
  {
   "cell_type": "markdown",
   "metadata": {
    "colab_type": "text",
    "id": "-LogErfoi1QC"
   },
   "source": [
    "3.  Pandas provides a `Series` method, `str.split`, that can split string values around a delimiter and spread the results into different columns. For the detail, see `help(pd.Series.str.split)`. Run the provided code directly to get a `DataFrame` as follows:\n",
    "\n",
    "<table border=\"1\" class=\"dataframe\">\n",
    "  <thead>\n",
    "    <tr style=\"text-align: right;\">\n",
    "      <th></th>\n",
    "      <th>id</th>\n",
    "      <th>species</th>\n",
    "      <th>feature</th>\n",
    "      <th>value</th>\n",
    "      <th>subfeature</th>\n",
    "    </tr>\n",
    "  </thead>\n",
    "  <tbody>\n",
    "    <tr>\n",
    "      <th>0</th>\n",
    "      <td>0</td>\n",
    "      <td>setosa</td>\n",
    "      <td>sepal</td>\n",
    "      <td>5.1</td>\n",
    "      <td>length</td>\n",
    "    </tr>\n",
    "    <tr>\n",
    "      <th>1</th>\n",
    "      <td>1</td>\n",
    "      <td>setosa</td>\n",
    "      <td>sepal</td>\n",
    "      <td>4.9</td>\n",
    "      <td>length</td>\n",
    "    </tr>\n",
    "    <tr>\n",
    "      <th>2</th>\n",
    "      <td>2</td>\n",
    "      <td>setosa</td>\n",
    "      <td>sepal</td>\n",
    "      <td>4.7</td>\n",
    "      <td>length</td>\n",
    "    </tr>\n",
    "    <tr>\n",
    "      <th>3</th>\n",
    "      <td>3</td>\n",
    "      <td>setosa</td>\n",
    "      <td>sepal</td>\n",
    "      <td>4.6</td>\n",
    "      <td>length</td>\n",
    "    </tr>\n",
    "    <tr>\n",
    "      <th>4</th>\n",
    "      <td>4</td>\n",
    "      <td>setosa</td>\n",
    "      <td>sepal</td>\n",
    "      <td>5.0</td>\n",
    "      <td>length</td>\n",
    "    </tr>\n",
    "    <tr>\n",
    "      <th>...</th>\n",
    "      <td>...</td>\n",
    "      <td>...</td>\n",
    "      <td>...</td>\n",
    "      <td>...</td>\n",
    "      <td>...</td>\n",
    "    </tr>\n",
    "    <tr>\n",
    "      <th>595</th>\n",
    "      <td>145</td>\n",
    "      <td>virginica</td>\n",
    "      <td>petal</td>\n",
    "      <td>2.3</td>\n",
    "      <td>width</td>\n",
    "    </tr>\n",
    "    <tr>\n",
    "      <th>596</th>\n",
    "      <td>146</td>\n",
    "      <td>virginica</td>\n",
    "      <td>petal</td>\n",
    "      <td>1.9</td>\n",
    "      <td>width</td>\n",
    "    </tr>\n",
    "    <tr>\n",
    "      <th>597</th>\n",
    "      <td>147</td>\n",
    "      <td>virginica</td>\n",
    "      <td>petal</td>\n",
    "      <td>2.0</td>\n",
    "      <td>width</td>\n",
    "    </tr>\n",
    "    <tr>\n",
    "      <th>598</th>\n",
    "      <td>148</td>\n",
    "      <td>virginica</td>\n",
    "      <td>petal</td>\n",
    "      <td>2.3</td>\n",
    "      <td>width</td>\n",
    "    </tr>\n",
    "    <tr>\n",
    "      <th>599</th>\n",
    "      <td>149</td>\n",
    "      <td>virginica</td>\n",
    "      <td>petal</td>\n",
    "      <td>1.8</td>\n",
    "      <td>width</td>\n",
    "    </tr>\n",
    "  </tbody>\n",
    "</table>"
   ]
  },
  {
   "cell_type": "code",
   "execution_count": null,
   "metadata": {
    "colab": {
     "base_uri": "https://localhost:8080/",
     "height": 447
    },
    "colab_type": "code",
    "executionInfo": {
     "elapsed": 1025,
     "status": "ok",
     "timestamp": 1589853244840,
     "user": {
      "displayName": "lingfung liu",
      "photoUrl": "",
      "userId": "15614447323883241219"
     },
     "user_tz": -480
    },
    "id": "YOIKuNqSi09W",
    "outputId": "e5de3873-0d68-4e9a-c5c0-7ab7e3dfb3e3"
   },
   "outputs": [],
   "source": [
    "iris_l[['feature', 'subfeature']] = iris_l['feature'].str.split('_', expand=True)\n",
    "iris_l"
   ]
  },
  {
   "cell_type": "markdown",
   "metadata": {
    "colab_type": "text",
    "id": "UVzIPf251BHr"
   },
   "source": [
    "4. Convert the `DataFrame` from long format to wide format, pulling values of `length` and `width` across rows into their own columns.  Name the resulting `DataFrame` `iris_w`. The output should look like the following:"
   ]
  },
  {
   "cell_type": "markdown",
   "metadata": {
    "colab_type": "text",
    "id": "xGtcUSfxkrsH"
   },
   "source": [
    "<table border=\"1\" class=\"dataframe\">\n",
    "  <thead>\n",
    "    <tr style=\"text-align: right;\">\n",
    "      <th></th>\n",
    "      <th>id</th>\n",
    "      <th>feature</th>\n",
    "      <th>species</th>\n",
    "      <th>length</th>\n",
    "      <th>width</th>\n",
    "    </tr>\n",
    "  </thead>\n",
    "  <tbody>\n",
    "    <tr>\n",
    "      <th>0</th>\n",
    "      <td>0</td>\n",
    "      <td>petal</td>\n",
    "      <td>setosa</td>\n",
    "      <td>1.4</td>\n",
    "      <td>0.2</td>\n",
    "    </tr>\n",
    "    <tr>\n",
    "      <th>1</th>\n",
    "      <td>0</td>\n",
    "      <td>sepal</td>\n",
    "      <td>setosa</td>\n",
    "      <td>5.1</td>\n",
    "      <td>3.5</td>\n",
    "    </tr>\n",
    "    <tr>\n",
    "      <th>2</th>\n",
    "      <td>1</td>\n",
    "      <td>petal</td>\n",
    "      <td>setosa</td>\n",
    "      <td>1.4</td>\n",
    "      <td>0.2</td>\n",
    "    </tr>\n",
    "    <tr>\n",
    "      <th>3</th>\n",
    "      <td>1</td>\n",
    "      <td>sepal</td>\n",
    "      <td>setosa</td>\n",
    "      <td>4.9</td>\n",
    "      <td>3.0</td>\n",
    "    </tr>\n",
    "    <tr>\n",
    "      <th>4</th>\n",
    "      <td>2</td>\n",
    "      <td>petal</td>\n",
    "      <td>setosa</td>\n",
    "      <td>1.3</td>\n",
    "      <td>0.2</td>\n",
    "    </tr>\n",
    "    <tr>\n",
    "      <th>...</th>\n",
    "      <td>...</td>\n",
    "      <td>...</td>\n",
    "      <td>...</td>\n",
    "      <td>...</td>\n",
    "      <td>...</td>\n",
    "    </tr>\n",
    "    <tr>\n",
    "      <th>295</th>\n",
    "      <td>147</td>\n",
    "      <td>sepal</td>\n",
    "      <td>virginica</td>\n",
    "      <td>6.5</td>\n",
    "      <td>3.0</td>\n",
    "    </tr>\n",
    "    <tr>\n",
    "      <th>296</th>\n",
    "      <td>148</td>\n",
    "      <td>petal</td>\n",
    "      <td>virginica</td>\n",
    "      <td>5.4</td>\n",
    "      <td>2.3</td>\n",
    "    </tr>\n",
    "    <tr>\n",
    "      <th>297</th>\n",
    "      <td>148</td>\n",
    "      <td>sepal</td>\n",
    "      <td>virginica</td>\n",
    "      <td>6.2</td>\n",
    "      <td>3.4</td>\n",
    "    </tr>\n",
    "    <tr>\n",
    "      <th>298</th>\n",
    "      <td>149</td>\n",
    "      <td>petal</td>\n",
    "      <td>virginica</td>\n",
    "      <td>5.1</td>\n",
    "      <td>1.8</td>\n",
    "    </tr>\n",
    "    <tr>\n",
    "      <th>299</th>\n",
    "      <td>149</td>\n",
    "      <td>sepal</td>\n",
    "      <td>virginica</td>\n",
    "      <td>5.9</td>\n",
    "      <td>3.0</td>\n",
    "    </tr>\n",
    "  </tbody>\n",
    "</table>"
   ]
  },
  {
   "cell_type": "code",
   "execution_count": null,
   "metadata": {
    "colab": {
     "base_uri": "https://localhost:8080/",
     "height": 447
    },
    "colab_type": "code",
    "executionInfo": {
     "elapsed": 961,
     "status": "ok",
     "timestamp": 1589853481662,
     "user": {
      "displayName": "lingfung liu",
      "photoUrl": "",
      "userId": "15614447323883241219"
     },
     "user_tz": -480
    },
    "id": "XjgPJ8hu2C19",
    "outputId": "8887b965-4be0-476a-ddbe-cad03203c3fd"
   },
   "outputs": [],
   "source": [
    "# write your code here\n",
    "\n",
    "iris_w = pd.pivot_table(iris_l,values='value',index=['id','feature','species'],columns='subfeature')\n",
    "iris_w.columns.name = None\n",
    "iris_w.reset_index(inplace = True)\n",
    "iris_w\n",
    "\n",
    "\n",
    "\n"
   ]
  },
  {
   "cell_type": "markdown",
   "metadata": {
    "colab_type": "text",
    "id": "iSCKk3XMlOQp"
   },
   "source": [
    "5. Now we readily create the facet plot we've seen by calling `sns.relplot`:\n"
   ]
  },
  {
   "cell_type": "code",
   "execution_count": null,
   "metadata": {
    "colab": {
     "base_uri": "https://localhost:8080/",
     "height": 331
    },
    "colab_type": "code",
    "executionInfo": {
     "elapsed": 2655,
     "status": "ok",
     "timestamp": 1589853511110,
     "user": {
      "displayName": "lingfung liu",
      "photoUrl": "",
      "userId": "15614447323883241219"
     },
     "user_tz": -480
    },
    "id": "zv0ftLkFlg5U",
    "outputId": "4c20b4b9-bf61-415f-b42e-bbf291724b1d"
   },
   "outputs": [],
   "source": [
    "sns.relplot('width', 'length', hue='species', col=\"feature\", s=80, data=iris_w, height=4.5)\n",
    "plt.show()"
   ]
  }
 ],
 "metadata": {
  "colab": {
   "collapsed_sections": [],
   "name": "6_pandas_exercise.ipynb",
   "provenance": []
  },
  "kernelspec": {
   "display_name": "Python 3",
   "language": "python",
   "name": "python3"
  },
  "language_info": {
   "codemirror_mode": {
    "name": "ipython",
    "version": 3
   },
   "file_extension": ".py",
   "mimetype": "text/x-python",
   "name": "python",
   "nbconvert_exporter": "python",
   "pygments_lexer": "ipython3",
   "version": "3.7.4"
  }
 },
 "nbformat": 4,
 "nbformat_minor": 1
}
